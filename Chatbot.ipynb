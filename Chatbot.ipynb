{
 "cells": [
  {
   "cell_type": "code",
   "execution_count": 1,
   "metadata": {
    "scrolled": true
   },
   "outputs": [],
   "source": [
    "# This a chatbot program"
   ]
  },
  {
   "cell_type": "code",
   "execution_count": 2,
   "metadata": {
    "scrolled": true
   },
   "outputs": [],
   "source": [
    "#import libraray\n",
    "from nltk.chat.util import Chat, reflections"
   ]
  },
  {
   "cell_type": "code",
   "execution_count": 3,
   "metadata": {
    "scrolled": true
   },
   "outputs": [],
   "source": [
    "#pairs=[\n",
    "#    ['my name is varsha',['Hello! Varsha']],\n",
    "#    ['hi my name is nick',['Hello! Nick']]\n",
    "#]"
   ]
  },
  {
   "cell_type": "code",
   "execution_count": 4,
   "metadata": {
    "scrolled": true
   },
   "outputs": [],
   "source": [
    "#Adding regular expressions to welcome any user\n",
    "pairs=[\n",
    "    ['my name is (.*)',['Hello! %1']],\n",
    "    ['(hi|hello|hey|holla|hola)', ['Hey there!', 'Hi there!', 'Hey!']],\n",
    "    ['(.*) your name ?',['My name is Varsha']],\n",
    "    ['(.*)(location|city) ?', ['Delhi, Pitampura']],\n",
    "    ['(.*) created you ?',['Varsha created me using python and NLTK']]\n",
    "]"
   ]
  },
  {
   "cell_type": "code",
   "execution_count": null,
   "metadata": {
    "scrolled": false
   },
   "outputs": [
    {
     "name": "stdout",
     "output_type": "stream",
     "text": [
      ">hi\n",
      "Hi there!\n",
      ">my name is comp\n",
      "Hello! comp\n",
      ">what's your name ?\n",
      "My name is Varsha\n",
      ">what's your location?\n",
      "Delhi, Pitampura\n",
      ">who created you ?\n",
      "Varsha created me using python and NLTK\n"
     ]
    }
   ],
   "source": [
    "chat=Chat(pairs, reflections)\n",
    "chat.converse()"
   ]
  },
  {
   "cell_type": "code",
   "execution_count": null,
   "metadata": {},
   "outputs": [],
   "source": []
  }
 ],
 "metadata": {
  "kernelspec": {
   "display_name": "Python 3",
   "language": "python",
   "name": "python3"
  },
  "language_info": {
   "codemirror_mode": {
    "name": "ipython",
    "version": 3
   },
   "file_extension": ".py",
   "mimetype": "text/x-python",
   "name": "python",
   "nbconvert_exporter": "python",
   "pygments_lexer": "ipython3",
   "version": "3.7.2"
  }
 },
 "nbformat": 4,
 "nbformat_minor": 2
}
